{
 "cells": [
  {
   "cell_type": "code",
   "execution_count": 36,
   "metadata": {
    "collapsed": true
   },
   "outputs": [],
   "source": [
    "import numpy as np\n",
    "import rank_metrics\n",
    "import sys\n",
    "relevanceVector = np.loadtxt(open(\"/home/ama/sidana/recsysBaselines/data/output/fmcountryfilesv3/vectors/len1/rv/relevanceVector_\"+sys.argv[1]+sys.argv[2]),delimiter = \" \")\n",
    "f = open('/home/ama/sidana/recsysBaselines/data/output/fmcountryfilesv3/vectors/len1/ev/evalMetrics_'+sys.argv[1]+sys.argv[2],'w')\n",
    "for k in range(1,30):\n",
    "    total_precision_k = 0\n",
    "    total_dcg_k = 0\n",
    "    total_ndcg_k = 0\n",
    "    for row in relevanceVector:\n",
    "        precision_k = rank_metrics.precision_at_k(row,k)\n",
    "        dcg_k = rank_metrics.dcg_at_k(row,k,0)\n",
    "        ndcg_k = rank_metrics.ndcg_at_k(row,k,0)\n",
    "        total_precision_k = total_precision_k + precision_k\n",
    "        total_dcg_k = total_dcg_k + dcg_k\n",
    "        total_ndcg_k = total_ndcg_k + ndcg_k\n",
    "    f.write(\"precision@\"+str(k)+\": \"+str(total_precision_k)+\"\\n\")\n",
    "    f.write(\"dcg@\"+str(k)+\": \"+str(total_dcg_k)+\"\\n\")\n",
    "    f.write(\"ndcg@\"+str(k)+\": \"+str(total_ndcg_k)+\"\\n\")\n",
    "        \n",
    "mrr = rank_metrics.mean_reciprocal_rank(relevanceVector)\n",
    "f.write(\"Mean Reciprocal Rank: \"+str(mrr)+\"\\n\")\n",
    "maP = rank_metrics.mean_average_precision(relevanceVector)\n",
    "f.write(\"Mean Average Precision: \"+ str(maP)+\"\\n\")\n",
    "f.close()\n"
   ]
  }
 ],
 "metadata": {
  "kernelspec": {
   "display_name": "Python 3",
   "language": "python",
   "name": "python3"
  },
  "language_info": {
   "codemirror_mode": {
    "name": "ipython",
    "version": 3
   },
   "file_extension": ".py",
   "mimetype": "text/x-python",
   "name": "python",
   "nbconvert_exporter": "python",
   "pygments_lexer": "ipython3",
   "version": "3.5.1"
  }
 },
 "nbformat": 4,
 "nbformat_minor": 0
}
